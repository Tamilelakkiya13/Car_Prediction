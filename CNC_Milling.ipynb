{
  "nbformat": 4,
  "nbformat_minor": 0,
  "metadata": {
    "colab": {
      "provenance": [],
      "authorship_tag": "ABX9TyMNbdDyUrJd3ljy/kxV5Dop",
      "include_colab_link": true
    },
    "kernelspec": {
      "name": "python3",
      "display_name": "Python 3"
    },
    "language_info": {
      "name": "python"
    }
  },
  "cells": [
    {
      "cell_type": "markdown",
      "metadata": {
        "id": "view-in-github",
        "colab_type": "text"
      },
      "source": [
        "<a href=\"https://colab.research.google.com/github/Tamilelakkiya13/Car_Prediction/blob/main/CNC_Milling.ipynb\" target=\"_parent\"><img src=\"https://colab.research.google.com/assets/colab-badge.svg\" alt=\"Open In Colab\"/></a>"
      ]
    },
    {
      "cell_type": "code",
      "source": [
        "import pandas as pd\n",
        "import glob"
      ],
      "metadata": {
        "id": "3rgF7miVXoij"
      },
      "execution_count": 2,
      "outputs": []
    },
    {
      "cell_type": "code",
      "source": [
        "# Load the train dataset\n",
        "train_df = pd.read_csv(\"/content/train (1).csv\")\n"
      ],
      "metadata": {
        "id": "AbDEfUj_Xr_L"
      },
      "execution_count": 3,
      "outputs": []
    },
    {
      "cell_type": "code",
      "source": [
        "# Get all time series CSV file paths and sort them\n",
        "time_series_files = sorted(glob.glob(\"/content/*.csv\"))  # Adjust path pattern if needed\n"
      ],
      "metadata": {
        "id": "aqvyVFk5OfsI"
      },
      "execution_count": 4,
      "outputs": []
    },
    {
      "cell_type": "code",
      "source": [
        "# List to store merged datasets\n",
        "merged_dfs = []"
      ],
      "metadata": {
        "id": "HmIT4zYSkfPJ"
      },
      "execution_count": 5,
      "outputs": []
    },
    {
      "cell_type": "code",
      "source": [
        "# Loop through all 18 time series datasets and merge with the corresponding train row\n",
        "for i in range(1, 19):\n",
        "    ts_df = dfs[f'df{i}']  # Get the time series dataframe (df1, df2, ..., df18)\n",
        "    train_row = train_df.iloc[[i - 1]].reset_index(drop=True)  # Get the corresponding train row\n",
        "\n",
        "    # Repeat train_row for all rows in the corresponding time series dataset\n",
        "    train_expanded = train_row.loc[train_row.index.repeat(len(ts_df))].reset_index(drop=True)\n",
        "\n",
        "    # Merge time series dataset with corresponding train row\n",
        "    merged_df = pd.concat([ts_df.reset_index(drop=True), train_expanded], axis=1)\n",
        "\n",
        "    # Store merged dataset\n",
        "    merged_dfs.append(merged_df)  # ✅ Corrected this line\n"
      ],
      "metadata": {
        "id": "5JLmHw6dkpzY",
        "colab": {
          "base_uri": "https://localhost:8080/",
          "height": 211
        },
        "outputId": "523d3236-bbf5-4b9e-9714-f9d4c85f1310"
      },
      "execution_count": 6,
      "outputs": [
        {
          "output_type": "error",
          "ename": "NameError",
          "evalue": "name 'dfs' is not defined",
          "traceback": [
            "\u001b[0;31m---------------------------------------------------------------------------\u001b[0m",
            "\u001b[0;31mNameError\u001b[0m                                 Traceback (most recent call last)",
            "\u001b[0;32m<ipython-input-6-4b955decb657>\u001b[0m in \u001b[0;36m<cell line: 0>\u001b[0;34m()\u001b[0m\n\u001b[1;32m      1\u001b[0m \u001b[0;31m# Loop through all 18 time series datasets and merge with the corresponding train row\u001b[0m\u001b[0;34m\u001b[0m\u001b[0;34m\u001b[0m\u001b[0m\n\u001b[1;32m      2\u001b[0m \u001b[0;32mfor\u001b[0m \u001b[0mi\u001b[0m \u001b[0;32min\u001b[0m \u001b[0mrange\u001b[0m\u001b[0;34m(\u001b[0m\u001b[0;36m1\u001b[0m\u001b[0;34m,\u001b[0m \u001b[0;36m19\u001b[0m\u001b[0;34m)\u001b[0m\u001b[0;34m:\u001b[0m\u001b[0;34m\u001b[0m\u001b[0;34m\u001b[0m\u001b[0m\n\u001b[0;32m----> 3\u001b[0;31m     \u001b[0mts_df\u001b[0m \u001b[0;34m=\u001b[0m \u001b[0mdfs\u001b[0m\u001b[0;34m[\u001b[0m\u001b[0;34mf'df{i}'\u001b[0m\u001b[0;34m]\u001b[0m  \u001b[0;31m# Get the time series dataframe (df1, df2, ..., df18)\u001b[0m\u001b[0;34m\u001b[0m\u001b[0;34m\u001b[0m\u001b[0m\n\u001b[0m\u001b[1;32m      4\u001b[0m     \u001b[0mtrain_row\u001b[0m \u001b[0;34m=\u001b[0m \u001b[0mtrain_df\u001b[0m\u001b[0;34m.\u001b[0m\u001b[0miloc\u001b[0m\u001b[0;34m[\u001b[0m\u001b[0;34m[\u001b[0m\u001b[0mi\u001b[0m \u001b[0;34m-\u001b[0m \u001b[0;36m1\u001b[0m\u001b[0;34m]\u001b[0m\u001b[0;34m]\u001b[0m\u001b[0;34m.\u001b[0m\u001b[0mreset_index\u001b[0m\u001b[0;34m(\u001b[0m\u001b[0mdrop\u001b[0m\u001b[0;34m=\u001b[0m\u001b[0;32mTrue\u001b[0m\u001b[0;34m)\u001b[0m  \u001b[0;31m# Get the corresponding train row\u001b[0m\u001b[0;34m\u001b[0m\u001b[0;34m\u001b[0m\u001b[0m\n\u001b[1;32m      5\u001b[0m \u001b[0;34m\u001b[0m\u001b[0m\n",
            "\u001b[0;31mNameError\u001b[0m: name 'dfs' is not defined"
          ]
        }
      ]
    },
    {
      "cell_type": "code",
      "source": [
        " # Merge time series dataset with corresponding train row\n",
        "    merged_df = pd.concat([ts_df.reset_index(drop=True), train_expanded], axis=1)"
      ],
      "metadata": {
        "id": "ZYciwOa8ksKw"
      },
      "execution_count": null,
      "outputs": []
    },
    {
      "cell_type": "code",
      "source": [
        " # Store merged dataset\n",
        "    merged_dfs.append(merged_df)  # ✅ Corrected this line"
      ],
      "metadata": {
        "id": "EtLldOjVkuyK"
      },
      "execution_count": null,
      "outputs": []
    }
  ]
}