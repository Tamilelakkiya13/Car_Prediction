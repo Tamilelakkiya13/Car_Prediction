{
  "nbformat": 4,
  "nbformat_minor": 0,
  "metadata": {
    "colab": {
      "provenance": [],
      "authorship_tag": "ABX9TyPlvYXYeTcVeCzrMTxDokpg",
      "include_colab_link": true
    },
    "kernelspec": {
      "name": "python3",
      "display_name": "Python 3"
    },
    "language_info": {
      "name": "python"
    }
  },
  "cells": [
    {
      "cell_type": "markdown",
      "metadata": {
        "id": "view-in-github",
        "colab_type": "text"
      },
      "source": [
        "<a href=\"https://colab.research.google.com/github/Tamilelakkiya13/Car_Prediction/blob/main/Untitled0.ipynb\" target=\"_parent\"><img src=\"https://colab.research.google.com/assets/colab-badge.svg\" alt=\"Open In Colab\"/></a>"
      ]
    },
    {
      "cell_type": "code",
      "execution_count": null,
      "metadata": {
        "id": "jDuZIA02SiIM"
      },
      "outputs": [],
      "source": [
        "import streamlit as st\n",
        "import pandas as pd\n",
        "import pickle\n",
        "\n",
        "# Define file paths\n",
        "model_path = \"model.pkl\"\n",
        "\n",
        "# Load model\n",
        "@st.cache_resource\n",
        "def load_model(model_path):\n",
        "    with open(model_path, 'rb') as file:\n",
        "        return pickle.load(file)\n",
        "\n",
        "model = load_model(model_path)\n",
        "\n",
        "# Define label mappings\n",
        "passed_visual_labels = {0: \"Failed\", 1: \"Passed\"}\n",
        "machining_finalized_labels = {0: \"Not Finalized\", 1: \"Finalized\"}\n",
        "tool_condition_labels = {0: \"UnWorn\", 1: \"Worn \"}\n",
        "\n",
        "import base64\n",
        "import os\n",
        "\n",
        "def set_background_image_local():\n",
        "    image_path = \"tool animated.jpg\"\n",
        "\n",
        "    if not os.path.exists(image_path):\n",
        "        st.error(\"Background image not found. Please check the file path.\")\n",
        "        return\n",
        "\n",
        "    with open(image_path, \"rb\") as file:\n",
        "        data = file.read()\n",
        "    base64_image = base64.b64encode(data).decode(\"utf-8\")\n",
        "\n",
        "    st.markdown(\n",
        "        f\"\"\"\n",
        "        <style>\n",
        "        .stApp {{\n",
        "            background-image: url(\"data:image/jpeg;base64,{base64_image}\");\n",
        "            background-size: cover;\n",
        "            background-position: center;\n",
        "            background-repeat: no-repeat;\n",
        "            background-attachment: fixed;\n",
        "        }}\n",
        "        </style>\n",
        "        \"\"\",\n",
        "        unsafe_allow_html=True\n",
        "    )\n",
        "\n",
        "# Call the function\n",
        "set_background_image_local()\n",
        "# Streamlit UI\n",
        "st.title(\"CNC Machine Prediction Dashboard\")\n",
        "\n",
        "# Upload Test Dataset\n",
        "uploaded_file = st.file_uploader(\"Upload test dataset (CSV format)\", type=[\"csv\"])\n",
        "\n",
        "if uploaded_file is not None:\n",
        "        try:\n",
        "            df_test = pd.read_csv(uploaded_file, dtype=str)\n",
        "            for col in df_test.columns:\n",
        "                try:\n",
        "                    df_test[col] = pd.to_numeric(df_test[col], errors='ignore')\n",
        "                except:\n",
        "                    pass\n",
        "            if \"Machining_Process\" in df_test.columns:\n",
        "    # Convert all values to string before applying `.str.lower()`\n",
        "                df_test[\"Machining_Process\"] = df_test[\"Machining_Process\"].astype(str).str.lower()\n",
        "\n",
        "                # Define mapping for all unique values\n",
        "                machining_process_map = {\n",
        "                    \"starting\": 0,\n",
        "                    \"prep\": 1,\n",
        "                    \"layer 1 up\": 2,\n",
        "                    \"layer 1 down\": 3,\n",
        "                    \"repositioning\": 4,\n",
        "                    \"layer 2 up\": 5,\n",
        "                    \"layer 2 down\": 6,\n",
        "                    \"layer 3 up\": 7,\n",
        "                    \"layer 3 down\": 8,\n",
        "                    \"end\": 9\n",
        "                }\n",
        "\n",
        "                # Apply mapping and handle unknown values\n",
        "                df_test[\"Machining_Process\"] = df_test[\"Machining_Process\"].map(machining_process_map)\n",
        "                df_test[\"Machining_Process\"] = df_test[\"Machining_Process\"].fillna(-1).astype(int)  # Set unknown values to -1\n",
        "\n",
        "            else:\n",
        "                st.write(\"'Machining_Process' column not found in uploaded dataset.\")\n",
        "        except:\n",
        "            pass\n",
        "else:\n",
        "    st.write(f\"Uploaded file is not matching with the model features please upload the valid test file\")\n",
        "\n",
        "# Handle \"Machining_Process\" column properly\n",
        "\n",
        "\n",
        "# Prediction buttons\n",
        "if st.button(\"Predict Passed Visual Inspection\"):\n",
        "    pred_passed_visual = model.predict(df_test)[:, 0]  # First column\n",
        "    #pred_passed_visual = pred_passed_visual.round().astype(int)  # Convert to 0/1\n",
        "    #pred_passed_visual = [passed_visual_labels.get(val, \"Unknown\") for val in pred_passed_visual]\n",
        "    st.write(\"Passed Visual Inspection Predictions:\")\n",
        "    st.write(\"Inspection Passed\" if pred_passed_visual > 0.5 else \"Inspection Failed\")\n",
        "\n",
        "if st.button(\"Predict Machining Finalized\"):\n",
        "    pred_machining_finalized = model.predict(df_test)[:, 1]  # Second column\n",
        "    pred_machining_finalized = pred_machining_finalized.round().astype(int)\n",
        "    pred_machining_finalized = [machining_finalized_labels.get(val, \"Unknown\") for val in pred_machining_finalized]\n",
        "    st.write(\"Machining Finalized Predictions:\")\n",
        "    st.write(pred_machining_finalized)\n",
        "\n",
        "if st.button(\"Predict Tool Condition\"):\n",
        "    pred_tool_condition = model.predict(df_test)[:, 2]  # Third column\n",
        "    pred_tool_condition = pred_tool_condition.round().astype(int)\n",
        "    pred_tool_condition = [tool_condition_labels.get(val, \"Unknown\") for val in pred_tool_condition]\n",
        "    st.write(\"Tool Condition Predictions:\")\n",
        "    st.write(pred_tool_condition)\n",
        "\n",
        "# Button to predict all at once\n",
        "if st.button(\"Predict All\"):\n",
        "    predictions = model.predict(df_test).round().astype(int)\n",
        "\n",
        "    results = pd.DataFrame({\n",
        "        \"Passed_Visual_Inspection\": [passed_visual_labels.get(val, \"Unknown\") for val in predictions[:, 0]],\n",
        "        \"Machining_Finalized\": [machining_finalized_labels.get(val, \"Unknown\") for val in predictions[:, 1]],\n",
        "        \"Tool_Condition\": [tool_condition_labels.get(val, \"Unknown\") for val in predictions[:, 2]]\n",
        "    })\n",
        "\n",
        "    st.write(\"All Predictions:\")\n",
        "    st.write(results.head())\n",
        "\n",
        "    # Save results\n",
        "    results_csv = results.to_csv(index=False)\n",
        "    st.download_button(\"Download Predictions\", results_csv, \"prediction_results.csv\", \"text/csv\")"
      ]
    },
    {
      "cell_type": "code",
      "source": [
        "# Define file paths\n",
        "model_path = \"model.pkl\"\n"
      ],
      "metadata": {
        "id": "cj6Qqtx3S1_C"
      },
      "execution_count": null,
      "outputs": []
    },
    {
      "cell_type": "code",
      "source": [
        "# Load model\n",
        "@st.cache_resource\n",
        "def load_model(model_path):\n",
        "    with open(model_path, 'rb') as file:\n",
        "        return pickle.load(file)"
      ],
      "metadata": {
        "id": "lIw8-dfKS9FI"
      },
      "execution_count": null,
      "outputs": []
    },
    {
      "cell_type": "code",
      "source": [
        "model = load_model(model_path)\n"
      ],
      "metadata": {
        "id": "kug5EyR4TBIR"
      },
      "execution_count": null,
      "outputs": []
    },
    {
      "cell_type": "code",
      "source": [
        "# Define label mappings\n",
        "passed_visual_labels = {0: \"Failed\", 1: \"Passed\"}\n",
        "machining_finalized_labels = {0: \"Not Finalized\", 1: \"Finalized\"}\n",
        "tool_condition_labels = {0: \"UnWorn\", 1: \"Worn \"}\n"
      ],
      "metadata": {
        "id": "rWR9azCqTGBw"
      },
      "execution_count": null,
      "outputs": []
    },
    {
      "cell_type": "code",
      "source": [
        "import base64\n",
        "import os"
      ],
      "metadata": {
        "id": "Q0hag4QTTLV_"
      },
      "execution_count": null,
      "outputs": []
    }
  ]
}