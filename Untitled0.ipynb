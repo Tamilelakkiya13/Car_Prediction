{
  "nbformat": 4,
  "nbformat_minor": 0,
  "metadata": {
    "colab": {
      "provenance": [],
      "authorship_tag": "ABX9TyMyfvvHCaTVKKPuswhzhA4u",
      "include_colab_link": true
    },
    "kernelspec": {
      "name": "python3",
      "display_name": "Python 3"
    },
    "language_info": {
      "name": "python"
    }
  },
  "cells": [
    {
      "cell_type": "markdown",
      "metadata": {
        "id": "view-in-github",
        "colab_type": "text"
      },
      "source": [
        "<a href=\"https://colab.research.google.com/github/Tamilelakkiya13/Car_Prediction/blob/main/Untitled0.ipynb\" target=\"_parent\"><img src=\"https://colab.research.google.com/assets/colab-badge.svg\" alt=\"Open In Colab\"/></a>"
      ]
    },
    {
      "cell_type": "code",
      "source": [
        "import pandas as pd\n",
        "import glob"
      ],
      "metadata": {
        "id": "3rgF7miVXoij"
      },
      "execution_count": 3,
      "outputs": []
    },
    {
      "cell_type": "code",
      "source": [
        "# Load the train dataset\n",
        "train_df = pd.read_csv(\"/content/train (1).csv\")\n"
      ],
      "metadata": {
        "id": "AbDEfUj_Xr_L"
      },
      "execution_count": 4,
      "outputs": []
    },
    {
      "cell_type": "code",
      "source": [
        "# Get all time series CSV file paths and sort them\n",
        "time_series_files = sorted(glob.glob(\"/content/*.csv\"))  # Adjust path pattern if needed"
      ],
      "metadata": {
        "id": "8Rh4800DXwBB"
      },
      "execution_count": 5,
      "outputs": []
    },
    {
      "cell_type": "code",
      "source": [
        "# Dictionary to store time series dataframes dynamically as df1, df2, ..., df18\n",
        "dfs = {}\n"
      ],
      "metadata": {
        "id": "YMYRJLJEX27p"
      },
      "execution_count": 6,
      "outputs": []
    },
    {
      "cell_type": "code",
      "source": [
        "# Load all time series datasets into the dictionary\n",
        "for i, file in enumerate(time_series_files, start=1):\n",
        "    dfs[f'df{i}'] = pd.read_csv(file)\n"
      ],
      "metadata": {
        "id": "Pyy7PkGTX_ca"
      },
      "execution_count": 7,
      "outputs": []
    }
  ]
}